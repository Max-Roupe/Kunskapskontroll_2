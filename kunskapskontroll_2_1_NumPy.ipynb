{
 "cells": [
  {
   "cell_type": "markdown",
   "id": "dacf74e6",
   "metadata": {},
   "source": [
    "# NumPy"
   ]
  },
  {
   "cell_type": "markdown",
   "id": "01b2bf34",
   "metadata": {},
   "source": [
    "Read the links: https://numpy.org/doc/stable/user/quickstart.html  and https://numpy.org/doc/stable/user/basics.broadcasting.html  before solving the exercises. "
   ]
  },
  {
   "cell_type": "code",
   "execution_count": 639,
   "id": "1f79e4a6",
   "metadata": {},
   "outputs": [],
   "source": [
    "import numpy as np"
   ]
  },
  {
   "cell_type": "markdown",
   "id": "7dae6889",
   "metadata": {},
   "source": [
    "### Print out the dimension (number of axes), shape, size and the datatype of the matrix A."
   ]
  },
  {
   "cell_type": "code",
   "execution_count": 640,
   "id": "7b3678cd",
   "metadata": {},
   "outputs": [],
   "source": [
    "A = np.arange(1, 16).reshape(3,5)"
   ]
  },
  {
   "cell_type": "code",
   "execution_count": 710,
   "id": "31d39235",
   "metadata": {},
   "outputs": [
    {
     "name": "stdout",
     "output_type": "stream",
     "text": [
      "2\n"
     ]
    }
   ],
   "source": [
    "print(A.ndim)"
   ]
  },
  {
   "cell_type": "code",
   "execution_count": 711,
   "id": "85dc15b1",
   "metadata": {},
   "outputs": [
    {
     "name": "stdout",
     "output_type": "stream",
     "text": [
      "(2, 2)\n"
     ]
    }
   ],
   "source": [
    "print(A.shape)"
   ]
  },
  {
   "cell_type": "code",
   "execution_count": 713,
   "id": "be70d169",
   "metadata": {},
   "outputs": [
    {
     "name": "stdout",
     "output_type": "stream",
     "text": [
      "4\n"
     ]
    }
   ],
   "source": [
    "print(A.size)"
   ]
  },
  {
   "cell_type": "code",
   "execution_count": 714,
   "id": "f28c729f",
   "metadata": {},
   "outputs": [
    {
     "name": "stdout",
     "output_type": "stream",
     "text": [
      "8\n"
     ]
    }
   ],
   "source": [
    "print(A.itemsize)"
   ]
  },
  {
   "cell_type": "code",
   "execution_count": 715,
   "id": "ed49649e",
   "metadata": {},
   "outputs": [
    {
     "name": "stdout",
     "output_type": "stream",
     "text": [
      "int64\n"
     ]
    }
   ],
   "source": [
    "print(A.dtype)"
   ]
  },
  {
   "cell_type": "markdown",
   "id": "e56d2a96",
   "metadata": {},
   "source": [
    "### Do the following computations on the matrices B and C: \n",
    "* Elementwise subtraction. \n",
    "* Elementwise multiplication. \n",
    "* Matrix multiplication (by default you should use the @ operator)."
   ]
  },
  {
   "cell_type": "code",
   "execution_count": 642,
   "id": "a7053fbb",
   "metadata": {},
   "outputs": [
    {
     "name": "stdout",
     "output_type": "stream",
     "text": [
      "[[1 2 3]\n",
      " [4 5 6]\n",
      " [7 8 9]]\n",
      "\n",
      "[[2. 2. 2.]\n",
      " [2. 2. 2.]\n",
      " [2. 2. 2.]]\n"
     ]
    }
   ],
   "source": [
    "B = np.arange(1, 10).reshape(3, 3)\n",
    "C = np.ones((3, 3))*2\n",
    "\n",
    "print(B)\n",
    "print()\n",
    "print(C)"
   ]
  },
  {
   "cell_type": "code",
   "execution_count": 643,
   "id": "3cd794ae",
   "metadata": {},
   "outputs": [
    {
     "name": "stdout",
     "output_type": "stream",
     "text": [
      "[[-1.  0.  1.]\n",
      " [ 2.  3.  4.]\n",
      " [ 5.  6.  7.]]\n"
     ]
    }
   ],
   "source": [
    "print(B - C)"
   ]
  },
  {
   "cell_type": "code",
   "execution_count": 644,
   "id": "4469e6b0",
   "metadata": {},
   "outputs": [
    {
     "name": "stdout",
     "output_type": "stream",
     "text": [
      "[[ 2.  4.  6.]\n",
      " [ 8. 10. 12.]\n",
      " [14. 16. 18.]]\n"
     ]
    }
   ],
   "source": [
    "print(B*C)"
   ]
  },
  {
   "cell_type": "code",
   "execution_count": 645,
   "id": "a64e22d6",
   "metadata": {},
   "outputs": [
    {
     "name": "stdout",
     "output_type": "stream",
     "text": [
      "[[12. 12. 12.]\n",
      " [30. 30. 30.]\n",
      " [48. 48. 48.]]\n"
     ]
    }
   ],
   "source": [
    "print(B @ C)"
   ]
  },
  {
   "cell_type": "markdown",
   "id": "96030d53",
   "metadata": {},
   "source": [
    "### Do the following calculations on the matrix:\n",
    "* Exponentiate each number elementwise (use the np.exp function).\n",
    "\n",
    "* Calculate the minimum value in the whole matrix. \n",
    "* Calculcate the minimum value in each row. \n",
    "* Calculcate the minimum value in each column. \n",
    "\n",
    "\n",
    "* Find the index value for the minimum value in the whole matrix (hint: use np.argmin).\n",
    "* Find the index value for the minimum value in each row (hint: use np.argmin).\n",
    "\n",
    "\n",
    "* Calculate the sum for all elements.\n",
    "* Calculate the mean for each column. \n",
    "* Calculate the median for each column. "
   ]
  },
  {
   "cell_type": "code",
   "execution_count": 646,
   "id": "f8a9166b",
   "metadata": {},
   "outputs": [
    {
     "name": "stdout",
     "output_type": "stream",
     "text": [
      "[[1 2 3]\n",
      " [4 5 6]\n",
      " [7 8 9]]\n"
     ]
    }
   ],
   "source": [
    "B = np.arange(1, 10).reshape(3, 3)\n",
    "print(B)"
   ]
  },
  {
   "cell_type": "code",
   "execution_count": 647,
   "id": "f03f24f7",
   "metadata": {},
   "outputs": [
    {
     "name": "stdout",
     "output_type": "stream",
     "text": [
      "[[2.71828183e+00 7.38905610e+00 2.00855369e+01]\n",
      " [5.45981500e+01 1.48413159e+02 4.03428793e+02]\n",
      " [1.09663316e+03 2.98095799e+03 8.10308393e+03]]\n"
     ]
    }
   ],
   "source": [
    "#  EXP är någonform av upphöjt till\n",
    "\n",
    "print(np.exp(B))"
   ]
  },
  {
   "cell_type": "code",
   "execution_count": 648,
   "id": "2724853c",
   "metadata": {},
   "outputs": [
    {
     "name": "stdout",
     "output_type": "stream",
     "text": [
      "1\n"
     ]
    }
   ],
   "source": [
    "\n",
    "# Det minsta talet i hela matrisen\n",
    "\n",
    "matrix_min = np.min(B)\n",
    "print(matrix_min)"
   ]
  },
  {
   "cell_type": "code",
   "execution_count": 649,
   "id": "af5ee306",
   "metadata": {},
   "outputs": [
    {
     "name": "stdout",
     "output_type": "stream",
     "text": [
      "[1 4 7]\n"
     ]
    }
   ],
   "source": [
    "# Minsta värdet per rad\n",
    "\n",
    "print(np.min(B, axis=1))"
   ]
  },
  {
   "cell_type": "code",
   "execution_count": 650,
   "id": "36a5bef0",
   "metadata": {},
   "outputs": [
    {
     "name": "stdout",
     "output_type": "stream",
     "text": [
      "[1 2 3]\n"
     ]
    }
   ],
   "source": [
    "# Minsta värdet per column\n",
    "\n",
    "print(np.min(B, axis=0))"
   ]
  },
  {
   "cell_type": "code",
   "execution_count": 651,
   "id": "b9539de1",
   "metadata": {},
   "outputs": [
    {
     "name": "stdout",
     "output_type": "stream",
     "text": [
      "0\n"
     ]
    }
   ],
   "source": [
    "# Minsta index i hela matrisen\n",
    "\n",
    "print(np.argmin(B))"
   ]
  },
  {
   "cell_type": "code",
   "execution_count": 652,
   "id": "f7941001",
   "metadata": {},
   "outputs": [
    {
     "name": "stdout",
     "output_type": "stream",
     "text": [
      "[0 0 0]\n"
     ]
    }
   ],
   "source": [
    "# Minsta index för hela matrisen\n",
    "\n",
    "print(np.argmin(B, axis=0))"
   ]
  },
  {
   "cell_type": "code",
   "execution_count": 653,
   "id": "9b5200de",
   "metadata": {},
   "outputs": [
    {
     "name": "stdout",
     "output_type": "stream",
     "text": [
      "45\n"
     ]
    }
   ],
   "source": [
    "# Summan av hela matrisen\n",
    "\n",
    "print(np.sum(B))"
   ]
  },
  {
   "cell_type": "code",
   "execution_count": 654,
   "id": "864802fe",
   "metadata": {},
   "outputs": [
    {
     "name": "stdout",
     "output_type": "stream",
     "text": [
      "[4. 5. 6.]\n"
     ]
    }
   ],
   "source": [
    "# Medelvädet på hela matrisen\n",
    "\n",
    "print(np.mean(B, axis=0))"
   ]
  },
  {
   "cell_type": "code",
   "execution_count": 655,
   "id": "bb905c06",
   "metadata": {},
   "outputs": [
    {
     "name": "stdout",
     "output_type": "stream",
     "text": [
      "[4. 5. 6.]\n"
     ]
    }
   ],
   "source": [
    "# Medianen på hela matrisen\n",
    "\n",
    "print(np.median(B, axis=0))"
   ]
  },
  {
   "cell_type": "markdown",
   "id": "541eb7ba",
   "metadata": {},
   "source": [
    "### What does it mean when you provide fewer indices than axes when slicing? See example below."
   ]
  },
  {
   "cell_type": "code",
   "execution_count": 656,
   "id": "9c8abf56",
   "metadata": {},
   "outputs": [
    {
     "name": "stdout",
     "output_type": "stream",
     "text": [
      "[[ 1  2  3  4  5]\n",
      " [ 6  7  8  9 10]\n",
      " [11 12 13 14 15]]\n"
     ]
    }
   ],
   "source": [
    "print(A)"
   ]
  },
  {
   "cell_type": "code",
   "execution_count": 657,
   "id": "69415f7b",
   "metadata": {},
   "outputs": [
    {
     "data": {
      "text/plain": [
       "array([ 6,  7,  8,  9, 10])"
      ]
     },
     "execution_count": 657,
     "metadata": {},
     "output_type": "execute_result"
    }
   ],
   "source": [
    "A[1]"
   ]
  },
  {
   "cell_type": "markdown",
   "id": "6c53541b",
   "metadata": {},
   "source": [
    "**Answer:**"
   ]
  },
  {
   "cell_type": "code",
   "execution_count": 658,
   "id": "de01e120",
   "metadata": {},
   "outputs": [],
   "source": [
    "# Den tar hela den andra raden med alla columner etfersom vi skrev \"A[1]\" vilket är den andra raden då det börjar på \"0\" "
   ]
  },
  {
   "cell_type": "markdown",
   "id": "6652d0c9",
   "metadata": {},
   "source": [
    "### Iterating over multidimensional arrays is done with respect to the first axis, so in the example below we iterate trough the rows. If you would like to iterate through the array *elementwise*, how would you do that?"
   ]
  },
  {
   "cell_type": "code",
   "execution_count": 659,
   "id": "9459864f",
   "metadata": {},
   "outputs": [
    {
     "data": {
      "text/plain": [
       "array([[ 1,  2,  3,  4,  5],\n",
       "       [ 6,  7,  8,  9, 10],\n",
       "       [11, 12, 13, 14, 15]])"
      ]
     },
     "execution_count": 659,
     "metadata": {},
     "output_type": "execute_result"
    }
   ],
   "source": [
    "A"
   ]
  },
  {
   "cell_type": "code",
   "execution_count": 660,
   "id": "a671bb5a",
   "metadata": {},
   "outputs": [
    {
     "name": "stdout",
     "output_type": "stream",
     "text": [
      "[1 2 3 4 5]\n",
      "[ 6  7  8  9 10]\n",
      "[11 12 13 14 15]\n"
     ]
    }
   ],
   "source": [
    "for i in A:\n",
    "    print(i)"
   ]
  },
  {
   "cell_type": "code",
   "execution_count": 661,
   "id": "f4e443a0",
   "metadata": {},
   "outputs": [
    {
     "name": "stdout",
     "output_type": "stream",
     "text": [
      "1\n",
      "2\n",
      "3\n",
      "4\n",
      "5\n",
      "6\n",
      "7\n",
      "8\n",
      "9\n",
      "10\n",
      "11\n",
      "12\n",
      "13\n",
      "14\n",
      "15\n"
     ]
    }
   ],
   "source": [
    "for i in A.flat:\n",
    "    print(i)"
   ]
  },
  {
   "cell_type": "markdown",
   "id": "608a2583",
   "metadata": {},
   "source": [
    "### Explain what the code below does. More specifically, b has three axes - what does this mean? "
   ]
  },
  {
   "cell_type": "code",
   "execution_count": 662,
   "id": "f8f9b26f",
   "metadata": {},
   "outputs": [
    {
     "name": "stdout",
     "output_type": "stream",
     "text": [
      "[ 0  1  2  3  4  5  6  7  8  9 10 11 12 13 14 15 16 17 18 19 20 21 22 23\n",
      " 24 25 26 27 28 29]\n",
      "\n",
      "[[[ 0  1  2  3  4]\n",
      "  [ 5  6  7  8  9]\n",
      "  [10 11 12 13 14]]\n",
      "\n",
      " [[15 16 17 18 19]\n",
      "  [20 21 22 23 24]\n",
      "  [25 26 27 28 29]]]\n"
     ]
    }
   ],
   "source": [
    "a = np.arange(30)\n",
    "b = a.reshape((2, 3, -1))\n",
    "print(a)\n",
    "print()\n",
    "\n",
    "print(b)"
   ]
  },
  {
   "cell_type": "code",
   "execution_count": 663,
   "id": "eed38bbb-dd20-4d23-837f-679aa3d3a067",
   "metadata": {},
   "outputs": [],
   "source": [
    "# först delar den det på 2 så att det blir 15, 15 sen delar den de 15 på 3 så att det blir 5, 5, 5 och sen 5, 5, 5 igen och -1 strechar ut allt "
   ]
  },
  {
   "cell_type": "markdown",
   "id": "421c9607-819a-401d-949a-97424436fe29",
   "metadata": {},
   "source": [
    "# For the exercises below, read the document *\"matematik_yh_antonio_vektorer_matriser_utdrag\"*\n",
    "# Solutions to the exercises and recorded videos can be found here: https://github.com/AntonioPrgomet/matematik_foer_yh\n",
    "\n",
    "# If you find the exercises below very hard, do not worry. Try your best, that will be enough. "
   ]
  },
  {
   "cell_type": "markdown",
   "id": "ab5933d5",
   "metadata": {},
   "source": [
    "### Broadcasting\n",
    "**Read the following link about broadcasting: https://numpy.org/doc/stable/user/basics.broadcasting.html#basics-broadcasting**"
   ]
  },
  {
   "cell_type": "markdown",
   "id": "039805ba",
   "metadata": {},
   "source": [
    "# Remark on Broadcasting when doing Linear Algebra calculations in Python. "
   ]
  },
  {
   "cell_type": "markdown",
   "id": "c4bcc147",
   "metadata": {},
   "source": [
    "### From the mathematical rules of matrix addition, the operation below (m1 + m2) does not make sense. The reason is that matrix addition requires two matrices of the same size. In Python however, it works due to broadcasting rules in NumPy. So you must be careful when doing Linear Algebra calculations in Python since they do not follow the \"mathematical rules\". This can however easily be handled by doing some simple programming, for example validating that two matrices have the same shape is easy if you for instance want to add two matrices. "
   ]
  },
  {
   "cell_type": "code",
   "execution_count": 664,
   "id": "1fd46778",
   "metadata": {},
   "outputs": [
    {
     "name": "stdout",
     "output_type": "stream",
     "text": [
      "[[2 3]\n",
      " [4 5]]\n"
     ]
    }
   ],
   "source": [
    "m1 = np.array([[1, 2], [3, 4]])\n",
    "m2 = np.array([1, 1])\n",
    "print(m1 + m2)"
   ]
  },
  {
   "cell_type": "markdown",
   "id": "047d6576",
   "metadata": {},
   "source": [
    "### The example below would also not be allowed if following the \"mathematical rules\" in Linear Algebra. But it works due to broadcasting in NumPy. "
   ]
  },
  {
   "cell_type": "code",
   "execution_count": 665,
   "id": "5e6ef2e4",
   "metadata": {},
   "outputs": [
    {
     "name": "stdout",
     "output_type": "stream",
     "text": [
      "[2 3 4]\n"
     ]
    }
   ],
   "source": [
    "v1 = np.array([1, 2, 3])\n",
    "print(v1 + 1)"
   ]
  },
  {
   "cell_type": "code",
   "execution_count": 666,
   "id": "e2cbae26",
   "metadata": {},
   "outputs": [
    {
     "name": "stdout",
     "output_type": "stream",
     "text": [
      "[[1 2]\n",
      " [3 4]]\n",
      "[2 2]\n"
     ]
    }
   ],
   "source": [
    "A = np.arange(1, 5).reshape(2,2)\n",
    "print(A)\n",
    "\n",
    "b = np.array([2, 2])\n",
    "print(b)"
   ]
  },
  {
   "cell_type": "markdown",
   "id": "722fd5cd",
   "metadata": {},
   "source": [
    "# Vector- and matrix algebra Exercises"
   ]
  },
  {
   "cell_type": "markdown",
   "id": "b63a3081-d976-4d9f-bfd0-a63917e79f7d",
   "metadata": {},
   "source": [
    "**Now you are going to create a function that can be reused every time you add or multiply matrices. The function is created so that we do the addition and multiplication according to the rules of vector- and matrix algebra.**\n",
    "\n",
    "**Create a function \"add_mult_matrices\" that takes two matrices as input arguments (validate that the input are of the type numpy.ndarray by using the isinstance function), a third argument that is either 'add' or 'multiply' that specifies if you want to add or multiply the matrices (validate that the third argument is either 'add' or 'multiply'). When doing matrix addition, validate that the matrices have the same size. When doing matrix multiplication, validate that the sizes conform (i.e. number of columns in the first matrix is equal to the number of rows in the second matrix).**"
   ]
  },
  {
   "cell_type": "code",
   "execution_count": 667,
   "id": "a4ecc7f3",
   "metadata": {},
   "outputs": [],
   "source": [
    "## 2 matris argument (m1, m2)\n",
    "## måste vara samma dimention (np.ndarray) är kriterie att de är samma (isinstance)\n",
    "## 3e argument som antingen är + eller * skriver ut vad som gjorts?\n",
    "## när man gör addition validera samma storlek"
   ]
  },
  {
   "cell_type": "code",
   "execution_count": 668,
   "id": "3506f977-ac0a-473f-85bc-eec9f35dc498",
   "metadata": {},
   "outputs": [
    {
     "name": "stdout",
     "output_type": "stream",
     "text": [
      "Addition Svar:\n",
      "[[10 12]\n",
      " [14 16]]\n",
      "Multiplication Svar:\n",
      "[[ 57  64]\n",
      " [ 89 100]]\n"
     ]
    }
   ],
   "source": [
    "def add_mult_matrices(A1, A2, operation):\n",
    "    if not isinstance(A1, np.ndarray) or not isinstance(A2, np.ndarray):\n",
    "        raise ValueError(\"Både A1 och A2 måste vara numpy arrays!\")\n",
    "    \n",
    "    if operation not in [\"add\", \"multiply\"]:\n",
    "        raise ValueError(\"Operatorn måste vara 'add' eller 'multiply'\")\n",
    "\n",
    "    if operation == \"add\":\n",
    "        if A1.shape != A2.shape:\n",
    "            raise ValueError(\"Matriserna måste ha samma from för att addera!\")\n",
    "        return A1 + A2\n",
    "\n",
    "    elif operation == \"multiply\":\n",
    "        if A1.shape[1] != A2.shape[0]:\n",
    "            raise ValueError(\"för att kunna multiplicera måste matrisen ha lika många columner i 'A1' som rader i 'A2'!\")\n",
    "        return np.dot(A1, A2)\n",
    "    \n",
    "A1 = np.array([[3, 4], [5, 6]])\n",
    "A2 = np.array([[7, 8], [9, 10]])\n",
    "\n",
    "# Matris addition\n",
    "result_add = add_mult_matrices(A1, A2, 'add')\n",
    "print(\"Addition Svar:\")\n",
    "print(result_add)\n",
    "\n",
    "# Matris multiplication\n",
    "result_multiply = add_mult_matrices(A1, A2, \"multiply\")\n",
    "print(\"Multiplication Svar:\")\n",
    "print(result_multiply)\n",
    "\n",
    "#result_add = add_mult_matrices(A1, A2, 'Hej')"
   ]
  },
  {
   "cell_type": "markdown",
   "id": "8dad82d0-2359-4dff-8f5b-a57d3e34103c",
   "metadata": {},
   "source": [
    "### Solve all the exercises in chapter 10.1 in the book \"Matematik för yrkeshögskolan\" by using Python. "
   ]
  },
  {
   "cell_type": "code",
   "execution_count": 669,
   "id": "72bf9ce0",
   "metadata": {},
   "outputs": [],
   "source": [
    "# 10.1.1 \n",
    "\n",
    "x = np.array([4, 3])"
   ]
  },
  {
   "cell_type": "code",
   "execution_count": 670,
   "id": "89df88af-3668-4d98-a0a4-e6d92eea0f89",
   "metadata": {},
   "outputs": [
    {
     "name": "stdout",
     "output_type": "stream",
     "text": [
      "(2,)\n"
     ]
    }
   ],
   "source": [
    "# a) Vilken dimintion har vektorn 'x'?\n",
    "# svar:\n",
    "print(x.shape)"
   ]
  },
  {
   "cell_type": "code",
   "execution_count": 671,
   "id": "6798d11d",
   "metadata": {},
   "outputs": [
    {
     "name": "stdout",
     "output_type": "stream",
     "text": [
      "[20 15]\n"
     ]
    }
   ],
   "source": [
    "# b) Beräkna 5x.\n",
    "# svar:\n",
    "five_x = 5*x\n",
    "print(five_x)"
   ]
  },
  {
   "cell_type": "code",
   "execution_count": 672,
   "id": "b63edea2",
   "metadata": {},
   "outputs": [
    {
     "name": "stdout",
     "output_type": "stream",
     "text": [
      "[12  9]\n"
     ]
    }
   ],
   "source": [
    "# c) Beräkna 3x.\n",
    "# svar:\n",
    "three_x = 3*x\n",
    "print(three_x)"
   ]
  },
  {
   "cell_type": "code",
   "execution_count": 673,
   "id": "f224f20a",
   "metadata": {},
   "outputs": [
    {
     "name": "stdout",
     "output_type": "stream",
     "text": [
      "[32 24]\n"
     ]
    }
   ],
   "source": [
    "# d) Beräkna 5x + 3x.\n",
    "# svar:\n",
    "five_x_three_x = five_x + three_x\n",
    "print(five_x_three_x)"
   ]
  },
  {
   "cell_type": "code",
   "execution_count": 674,
   "id": "7a0913f5",
   "metadata": {},
   "outputs": [
    {
     "name": "stdout",
     "output_type": "stream",
     "text": [
      "[32 24]\n"
     ]
    }
   ],
   "source": [
    "# e) Beräkna 8x.\n",
    "# svar:\n",
    "eight_x = 8*x\n",
    "print(eight_x)"
   ]
  },
  {
   "cell_type": "code",
   "execution_count": 675,
   "id": "07155b97",
   "metadata": {},
   "outputs": [
    {
     "name": "stdout",
     "output_type": "stream",
     "text": [
      "[12  9]\n"
     ]
    }
   ],
   "source": [
    "# f) Beräkna 4x - x.\n",
    "# svar:\n",
    "four_x = 4*x\n",
    "print(four_x - x)"
   ]
  },
  {
   "cell_type": "code",
   "execution_count": 676,
   "id": "502710ca",
   "metadata": {},
   "outputs": [
    {
     "name": "stdout",
     "output_type": "stream",
     "text": [
      "[4 3]\n",
      "(2,)\n"
     ]
    }
   ],
   "source": [
    "# g) Beräkna x⊤, vilken blir den nya dimensionen efter att transponeringen utförts?.\n",
    "# svar:\n",
    "xt = x.T\n",
    "print(xt)\n",
    "\n",
    "print(xt.shape)"
   ]
  },
  {
   "cell_type": "code",
   "execution_count": 677,
   "id": "fc763f56",
   "metadata": {},
   "outputs": [
    {
     "name": "stdout",
     "output_type": "stream",
     "text": [
      "True\n"
     ]
    }
   ],
   "source": [
    "# h) Är x + x⊤ definierat?.\n",
    "# svar: svaret i python är blir True fast svaret i matteboken blir False.\n",
    "print(x.shape == xt.shape)"
   ]
  },
  {
   "cell_type": "code",
   "execution_count": 678,
   "id": "6af6b21d",
   "metadata": {},
   "outputs": [
    {
     "name": "stdout",
     "output_type": "stream",
     "text": [
      "5.0\n"
     ]
    }
   ],
   "source": [
    "# i) Beräkna ||x||.\n",
    "# svar: \n",
    "norm_x = np.linalg.norm(x)\n",
    "print(norm_x)"
   ]
  },
  {
   "cell_type": "markdown",
   "id": "736a909e",
   "metadata": {},
   "source": [
    "## 10.1.2"
   ]
  },
  {
   "cell_type": "code",
   "execution_count": 679,
   "id": "d75554ef",
   "metadata": {},
   "outputs": [
    {
     "name": "stdout",
     "output_type": "stream",
     "text": [
      "[ 3  7  0 11]\n",
      "(4,)\n"
     ]
    }
   ],
   "source": [
    "# Definiera vektorn \n",
    "vektor = [3, \n",
    "         7, \n",
    "         0, \n",
    "         11]\n",
    "\n",
    "v = np.array(vektor)\n",
    "print(v)\n",
    "print(v.shape)"
   ]
  },
  {
   "cell_type": "code",
   "execution_count": 680,
   "id": "372bc481",
   "metadata": {},
   "outputs": [
    {
     "name": "stdout",
     "output_type": "stream",
     "text": [
      "[ 6 14  0 22]\n"
     ]
    }
   ],
   "source": [
    "two_v = v*2\n",
    "\n",
    "print(two_v)"
   ]
  },
  {
   "cell_type": "code",
   "execution_count": 681,
   "id": "1c2bd196",
   "metadata": {},
   "outputs": [
    {
     "name": "stdout",
     "output_type": "stream",
     "text": [
      "[21 49  0 77]\n"
     ]
    }
   ],
   "source": [
    "five_v = v*5\n",
    "\n",
    "print(five_v + two_v)"
   ]
  },
  {
   "cell_type": "code",
   "execution_count": 682,
   "id": "fe35a742",
   "metadata": {},
   "outputs": [
    {
     "name": "stdout",
     "output_type": "stream",
     "text": [
      "[ 6 14  0 22]\n"
     ]
    }
   ],
   "source": [
    "four_v = v*4\n",
    "\n",
    "print(four_v - two_v)"
   ]
  },
  {
   "cell_type": "code",
   "execution_count": 683,
   "id": "a0325989",
   "metadata": {},
   "outputs": [
    {
     "name": "stdout",
     "output_type": "stream",
     "text": [
      "[ 3  7  0 11]\n",
      "(4,)\n"
     ]
    }
   ],
   "source": [
    "vt = v.T\n",
    "print(vt)\n",
    "\n",
    "print(vt.shape)"
   ]
  },
  {
   "cell_type": "code",
   "execution_count": 684,
   "id": "10824d22",
   "metadata": {},
   "outputs": [
    {
     "name": "stdout",
     "output_type": "stream",
     "text": [
      "13.379088160259652\n"
     ]
    }
   ],
   "source": [
    "norm_v = np.linalg.norm(v)\n",
    "print(norm_v)"
   ]
  },
  {
   "cell_type": "markdown",
   "id": "bd7a6bfe",
   "metadata": {},
   "source": [
    "## 10.1.3"
   ]
  },
  {
   "cell_type": "code",
   "execution_count": 685,
   "id": "efdde2a1",
   "metadata": {},
   "outputs": [
    {
     "name": "stdout",
     "output_type": "stream",
     "text": [
      "(4,)\n",
      "(4,)\n"
     ]
    }
   ],
   "source": [
    "vektor1 = [4, 3, 1, 5]\n",
    "vektor2 = [2, 3, 1, 1]\n",
    "\n",
    "v1 = np.array(vektor1)\n",
    "v2 = np.array(vektor2)\n",
    "\n",
    "print(v1.shape)\n",
    "print(v2.shape)"
   ]
  },
  {
   "cell_type": "code",
   "execution_count": 686,
   "id": "13690683",
   "metadata": {},
   "outputs": [
    {
     "name": "stdout",
     "output_type": "stream",
     "text": [
      "7.14142842854285\n"
     ]
    }
   ],
   "source": [
    "# a)\n",
    "norm_v1 = np.linalg.norm(v1)\n",
    "print(norm_v1)"
   ]
  },
  {
   "cell_type": "code",
   "execution_count": 687,
   "id": "eb1a2260",
   "metadata": {},
   "outputs": [
    {
     "name": "stdout",
     "output_type": "stream",
     "text": [
      "3.872983346207417\n"
     ]
    }
   ],
   "source": [
    "norm_v2 = np.linalg.norm(v2)\n",
    "print(norm_v2)"
   ]
  },
  {
   "cell_type": "code",
   "execution_count": 688,
   "id": "7642959c",
   "metadata": {},
   "outputs": [
    {
     "name": "stdout",
     "output_type": "stream",
     "text": [
      "3.2684450823354334\n"
     ]
    }
   ],
   "source": [
    "# b)\n",
    "print(norm_v1 - norm_v2)"
   ]
  },
  {
   "cell_type": "markdown",
   "id": "75c98984-1f88-4df1-b850-d2466de444a5",
   "metadata": {},
   "source": [
    "### Solve all the exercises, except 10.2.4, in chapter 10.2 in the book \"Matematik för yrkeshögskolan\" by using Python. "
   ]
  },
  {
   "cell_type": "markdown",
   "id": "561a1b43",
   "metadata": {},
   "source": [
    "## Uppgift 10.2.1.\n"
   ]
  },
  {
   "cell_type": "code",
   "execution_count": 689,
   "id": "65371610-16e1-48b2-b7fb-65e49002608a",
   "metadata": {},
   "outputs": [],
   "source": [
    "A = np.array([[2, 1, -1], [1, -1, 1]])\n",
    "B = np.array([[4, -2, 1], [2, -4, -2]])\n",
    "C = np.array([[1, 2], [2, 1]])\n",
    "D = np.array([[3, 4], [4, 3]])\n",
    "E = np.array([[1], [2]])\n",
    "I = np.array([[1, 0], [0, 1]])"
   ]
  },
  {
   "cell_type": "code",
   "execution_count": 690,
   "id": "0d2ce6e3",
   "metadata": {},
   "outputs": [
    {
     "name": "stdout",
     "output_type": "stream",
     "text": [
      "[[ 4  2 -2]\n",
      " [ 2 -2  2]]\n"
     ]
    }
   ],
   "source": [
    "# a)\n",
    "print(2 * A)"
   ]
  },
  {
   "cell_type": "code",
   "execution_count": 691,
   "id": "4449f0b9",
   "metadata": {},
   "outputs": [
    {
     "name": "stdout",
     "output_type": "stream",
     "text": [
      "[[ 0 -4  3]\n",
      " [ 0 -2 -4]]\n"
     ]
    }
   ],
   "source": [
    "# b)\n",
    "print(B - 2*A)"
   ]
  },
  {
   "cell_type": "code",
   "execution_count": 692,
   "id": "2f06a8a1",
   "metadata": {},
   "outputs": [],
   "source": [
    "# c)\n",
    "# Denna är inte definierad\n",
    "# print(3*C - 2*E)"
   ]
  },
  {
   "cell_type": "code",
   "execution_count": 693,
   "id": "4e8cb804",
   "metadata": {},
   "outputs": [
    {
     "name": "stdout",
     "output_type": "stream",
     "text": [
      "[[3 2]\n",
      " [2 3]]\n"
     ]
    }
   ],
   "source": [
    "# d)\n",
    "print(2*D - 3*C)"
   ]
  },
  {
   "cell_type": "code",
   "execution_count": 694,
   "id": "40463b48",
   "metadata": {},
   "outputs": [
    {
     "name": "stdout",
     "output_type": "stream",
     "text": [
      "[[ 9 12]\n",
      " [12  9]]\n"
     ]
    }
   ],
   "source": [
    "# e)\n",
    "print(D.T + 2*D)"
   ]
  },
  {
   "cell_type": "code",
   "execution_count": 695,
   "id": "1948596c",
   "metadata": {},
   "outputs": [
    {
     "name": "stdout",
     "output_type": "stream",
     "text": [
      "[[-4 -4]\n",
      " [-4 -4]]\n"
     ]
    }
   ],
   "source": [
    "# f)\n",
    "print(2*C.T - 2*D.T)"
   ]
  },
  {
   "cell_type": "code",
   "execution_count": 696,
   "id": "ad3ad96b",
   "metadata": {},
   "outputs": [],
   "source": [
    "# g)\n",
    "# Denna är inte definierad\n",
    "# print(A.T - B)"
   ]
  },
  {
   "cell_type": "code",
   "execution_count": 697,
   "id": "4d922226",
   "metadata": {},
   "outputs": [],
   "source": [
    "# h)\n",
    "# Denna är inte definierad\n",
    "# print(A @ C)"
   ]
  },
  {
   "cell_type": "code",
   "execution_count": 698,
   "id": "ec90e403",
   "metadata": {},
   "outputs": [
    {
     "name": "stdout",
     "output_type": "stream",
     "text": [
      "[[11 10]\n",
      " [10 11]]\n"
     ]
    }
   ],
   "source": [
    "# i)\n",
    "print(C @ D)"
   ]
  },
  {
   "cell_type": "code",
   "execution_count": 699,
   "id": "d354f4f2",
   "metadata": {},
   "outputs": [
    {
     "name": "stdout",
     "output_type": "stream",
     "text": [
      "[[  8 -10  -3]\n",
      " [ 10  -8   0]]\n"
     ]
    }
   ],
   "source": [
    "# j)\n",
    "print(C @ B)"
   ]
  },
  {
   "cell_type": "code",
   "execution_count": 700,
   "id": "bd70bdde",
   "metadata": {},
   "outputs": [
    {
     "name": "stdout",
     "output_type": "stream",
     "text": [
      "[[1 2]\n",
      " [2 1]]\n"
     ]
    }
   ],
   "source": [
    "# k)\n",
    "print(C @ I)"
   ]
  },
  {
   "cell_type": "code",
   "execution_count": 701,
   "id": "9680fc5d",
   "metadata": {},
   "outputs": [
    {
     "name": "stdout",
     "output_type": "stream",
     "text": [
      "[[5 2]\n",
      " [7 4]]\n"
     ]
    }
   ],
   "source": [
    "# l)\n",
    "print(A @ B.T)"
   ]
  },
  {
   "cell_type": "markdown",
   "id": "8174dea3",
   "metadata": {},
   "source": [
    "## Uppgift 10.2.2."
   ]
  },
  {
   "cell_type": "code",
   "execution_count": 702,
   "id": "0e2772f5",
   "metadata": {},
   "outputs": [
    {
     "name": "stdout",
     "output_type": "stream",
     "text": [
      "[[29 26]\n",
      " [26 42]]\n"
     ]
    }
   ],
   "source": [
    "A = np.array([[2, 3, 4], [5, 4, 1]])\n",
    " \n",
    "# Beräkna AAT:\n",
    "print(A @ A.T)"
   ]
  },
  {
   "cell_type": "markdown",
   "id": "f111f62b",
   "metadata": {},
   "source": [
    "## Uppgift 10.2.3."
   ]
  },
  {
   "cell_type": "code",
   "execution_count": 703,
   "id": "4121bf26",
   "metadata": {},
   "outputs": [],
   "source": [
    "A = np.array([[1, 2], [2, 4]])\n",
    "B = np.array([[2, 1], [1, 3]])\n",
    "C = np.array([[4, 3], [0, 2]])"
   ]
  },
  {
   "cell_type": "code",
   "execution_count": 704,
   "id": "07a18139",
   "metadata": {},
   "outputs": [
    {
     "name": "stdout",
     "output_type": "stream",
     "text": [
      "[[ 4  7]\n",
      " [ 8 14]]\n"
     ]
    }
   ],
   "source": [
    "print(A @ B)"
   ]
  },
  {
   "cell_type": "code",
   "execution_count": 705,
   "id": "ce1cf6b0",
   "metadata": {},
   "outputs": [
    {
     "name": "stdout",
     "output_type": "stream",
     "text": [
      "[[ 4  7]\n",
      " [ 8 14]]\n"
     ]
    }
   ],
   "source": [
    "print(A @ C)"
   ]
  },
  {
   "cell_type": "code",
   "execution_count": 706,
   "id": "69565edc",
   "metadata": {},
   "outputs": [
    {
     "name": "stdout",
     "output_type": "stream",
     "text": [
      "[[2 1]\n",
      " [1 3]]\n"
     ]
    }
   ],
   "source": [
    "print(B)\n"
   ]
  },
  {
   "cell_type": "code",
   "execution_count": 707,
   "id": "36c0e9f0",
   "metadata": {},
   "outputs": [
    {
     "name": "stdout",
     "output_type": "stream",
     "text": [
      "[[4 3]\n",
      " [0 2]]\n"
     ]
    }
   ],
   "source": [
    "print(C)\n"
   ]
  },
  {
   "cell_type": "code",
   "execution_count": 708,
   "id": "33c73767",
   "metadata": {},
   "outputs": [
    {
     "name": "stdout",
     "output_type": "stream",
     "text": [
      "[[ True  True]\n",
      " [ True  True]]\n"
     ]
    }
   ],
   "source": [
    "print(A @ B == A @ C)"
   ]
  },
  {
   "cell_type": "code",
   "execution_count": 709,
   "id": "ada604bd",
   "metadata": {},
   "outputs": [
    {
     "name": "stdout",
     "output_type": "stream",
     "text": [
      "[[False False]\n",
      " [False False]]\n"
     ]
    }
   ],
   "source": [
    "print(B == C)"
   ]
  }
 ],
 "metadata": {
  "kernelspec": {
   "display_name": ".venv",
   "language": "python",
   "name": "python3"
  },
  "language_info": {
   "codemirror_mode": {
    "name": "ipython",
    "version": 3
   },
   "file_extension": ".py",
   "mimetype": "text/x-python",
   "name": "python",
   "nbconvert_exporter": "python",
   "pygments_lexer": "ipython3",
   "version": "3.13.1"
  }
 },
 "nbformat": 4,
 "nbformat_minor": 5
}
